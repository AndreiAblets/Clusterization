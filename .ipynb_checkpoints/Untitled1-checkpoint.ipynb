{
 "cells": [
  {
   "cell_type": "markdown",
   "id": "52298833",
   "metadata": {
    "toc": true
   },
   "source": [
    "<h1>Table of Contents<span class=\"tocSkip\"></span></h1>\n",
    "<div class=\"toc\"><ul class=\"toc-item\"><li><span><a href=\"#Fashion-MNIST\" data-toc-modified-id=\"Fashion-MNIST-0\">Fashion-MNIST</a></span><ul class=\"toc-item\"><li><span><a href=\"#K-Means\" data-toc-modified-id=\"K-Means-0.1\">K-Means</a></span></li><li><span><a href=\"#PCA-and-K-Means\" data-toc-modified-id=\"PCA-and-K-Means-0.2\">PCA and K-Means</a></span></li></ul></li><li><span><a href=\"#Caltech-256\" data-toc-modified-id=\"Caltech-256-1\">Caltech 256</a></span></li><li><span><a href=\"#20-newsgroup\" data-toc-modified-id=\"20-newsgroup-2\">20 newsgroup</a></span></li></ul></div>"
   ]
  },
  {
   "cell_type": "code",
   "execution_count": 154,
   "id": "863a651d",
   "metadata": {
    "ExecuteTime": {
     "end_time": "2021-09-23T05:32:58.916078Z",
     "start_time": "2021-09-23T05:32:58.910073Z"
    }
   },
   "outputs": [],
   "source": [
    "import tensorflow as tf\n",
    "import numpy as np\n",
    "import matplotlib.pyplot as plt\n",
    "import pandas as pd\n",
    "import os\n",
    "import PIL.Image\n",
    "import glob\n",
    "\n",
    "from sklearn.cluster import KMeans\n",
    "from sklearn.decomposition import PCA\n",
    "from sklearn.feature_extraction.text import TfidfVectorizer\n",
    "from sklearn import metrics\n",
    "from tqdm import tqdm"
   ]
  },
  {
   "cell_type": "markdown",
   "id": "b8d25f33",
   "metadata": {},
   "source": [
    "# Fashion-MNIST"
   ]
  },
  {
   "cell_type": "code",
   "execution_count": 155,
   "id": "8099be35",
   "metadata": {
    "ExecuteTime": {
     "end_time": "2021-09-23T05:33:01.116208Z",
     "start_time": "2021-09-23T05:33:00.464204Z"
    },
    "cell_style": "center",
    "scrolled": true
   },
   "outputs": [
    {
     "name": "stdout",
     "output_type": "stream",
     "text": [
      "x_train shape: (60000, 28, 28) y_train shape: (60000,)\n"
     ]
    }
   ],
   "source": [
    "(x_train, y_train), (x_test, y_test) = tf.keras.datasets.fashion_mnist.load_data()\n",
    "\n",
    "print(\"x_train shape:\", x_train.shape, \"y_train shape:\", y_train.shape)"
   ]
  },
  {
   "cell_type": "markdown",
   "id": "f9e3260c",
   "metadata": {},
   "source": [
    "Because we don't use the labels, we can concatenate x_train and x_test arrays"
   ]
  },
  {
   "cell_type": "code",
   "execution_count": 156,
   "id": "c5e08d1a",
   "metadata": {
    "ExecuteTime": {
     "end_time": "2021-09-23T05:33:04.133372Z",
     "start_time": "2021-09-23T05:33:03.679380Z"
    }
   },
   "outputs": [
    {
     "data": {
      "text/plain": [
       "(70000, 784)"
      ]
     },
     "execution_count": 156,
     "metadata": {},
     "output_type": "execute_result"
    }
   ],
   "source": [
    "X_mnist = np.concatenate((x_train , x_test), axis=0)\n",
    "X_mnist = X_mnist.reshape(-1,X_mnist.shape[1]*X_mnist.shape[2])\n",
    "X_mnist = X_mnist/255\n",
    "\n",
    "n = X_mnist.shape[0]\n",
    "X_mnist.shape"
   ]
  },
  {
   "cell_type": "code",
   "execution_count": 157,
   "id": "0242f9db",
   "metadata": {
    "ExecuteTime": {
     "end_time": "2021-09-23T05:33:06.039827Z",
     "start_time": "2021-09-23T05:33:06.030829Z"
    }
   },
   "outputs": [
    {
     "data": {
      "text/plain": [
       "(70000,)"
      ]
     },
     "execution_count": 157,
     "metadata": {},
     "output_type": "execute_result"
    }
   ],
   "source": [
    "Y_mnist = np.concatenate((y_train , y_test), axis=0)\n",
    "Y_mnist.shape"
   ]
  },
  {
   "cell_type": "markdown",
   "id": "c88e75c8",
   "metadata": {},
   "source": [
    "## K-Means"
   ]
  },
  {
   "cell_type": "code",
   "execution_count": 158,
   "id": "1e239601",
   "metadata": {
    "ExecuteTime": {
     "end_time": "2021-09-23T05:34:07.034106Z",
     "start_time": "2021-09-23T05:33:07.513831Z"
    }
   },
   "outputs": [
    {
     "data": {
      "text/plain": [
       "KMeans(n_clusters=10)"
      ]
     },
     "execution_count": 158,
     "metadata": {},
     "output_type": "execute_result"
    }
   ],
   "source": [
    "k_means = KMeans(n_clusters = 10)\n",
    "k_means.fit(X_mnist)"
   ]
  },
  {
   "cell_type": "markdown",
   "id": "1065ad46",
   "metadata": {},
   "source": [
    "To find the accuracy of this model, assume that the class, the clothes type of which are most often found in the cluster - correct. "
   ]
  },
  {
   "cell_type": "markdown",
   "id": "d70c9def",
   "metadata": {},
   "source": [
    "So, let's see at histograms of correct answers of KMeans model:"
   ]
  },
  {
   "cell_type": "code",
   "execution_count": 159,
   "id": "33c092dc",
   "metadata": {
    "ExecuteTime": {
     "end_time": "2021-09-23T05:34:08.589104Z",
     "start_time": "2021-09-23T05:34:08.577102Z"
    }
   },
   "outputs": [],
   "source": [
    "def plot_hist(pred, Y,n1,n2):\n",
    "    f,a = plt.subplots(n1,n2, figsize=(15,7))\n",
    "    a = a.ravel()\n",
    "    general_accuracy = np.array([])\n",
    "\n",
    "    for idx,ax in enumerate(a):\n",
    "\n",
    "        cluster_values = Y[pred==idx]\n",
    "        ax.hist(cluster_values)\n",
    "        value_counts = pd.value_counts(cluster_values)\n",
    "        cluster_accuracy = value_counts.max()/value_counts.sum()\n",
    "        general_accuracy = np.append(general_accuracy,cluster_accuracy*value_counts.sum())\n",
    "\n",
    "        ax.set_title('true label = ' + str(idx) + '\\n'+ 'accuracy = ' + str(round(cluster_accuracy,3)))\n",
    "        ax.set_xlabel('clusters')\n",
    "        ax.set_ylabel('number of samples')\n",
    "\n",
    "    plt.tight_layout()\n",
    "    \n",
    "    return general_accuracy"
   ]
  },
  {
   "cell_type": "code",
   "execution_count": 160,
   "id": "dbb042e7",
   "metadata": {
    "ExecuteTime": {
     "end_time": "2021-09-23T05:34:11.653105Z",
     "start_time": "2021-09-23T05:34:09.877107Z"
    }
   },
   "outputs": [
    {
     "data": {
      "image/png": "[encoded data removed]",
      "text/plain": [
       "<Figure size 1080x504 with 10 Axes>"
      ]
     },
     "metadata": {
      "needs_background": "light"
     },
     "output_type": "display_data"
    }
   ],
   "source": [
    "general_accuracy = plot_hist(k_means.labels_,Y_mnist,2,5)"
   ]
  },
  {
   "cell_type": "code",
   "execution_count": 161,
   "id": "2489198e",
   "metadata": {
    "ExecuteTime": {
     "end_time": "2021-09-23T05:34:13.473107Z",
     "start_time": "2021-09-23T05:34:13.448107Z"
    }
   },
   "outputs": [
    {
     "name": "stdout",
     "output_type": "stream",
     "text": [
      "accuracy =  0.5549857142857143\n"
     ]
    }
   ],
   "source": [
    "print('accuracy = ',general_accuracy.sum()/n)"
   ]
  },
  {
   "cell_type": "markdown",
   "id": "a7d80dd1",
   "metadata": {},
   "source": [
    "## PCA and K-Means"
   ]
  },
  {
   "cell_type": "markdown",
   "id": "99d60d52",
   "metadata": {},
   "source": [
    "Let's do PCA transformation before KMeans clusterization"
   ]
  },
  {
   "cell_type": "code",
   "execution_count": 162,
   "id": "111bd2a6",
   "metadata": {
    "ExecuteTime": {
     "end_time": "2021-09-23T05:34:28.238734Z",
     "start_time": "2021-09-23T05:34:14.786106Z"
    }
   },
   "outputs": [
    {
     "name": "stdout",
     "output_type": "stream",
     "text": [
      "New number of features = 43\n"
     ]
    }
   ],
   "source": [
    "variance = 0.85\n",
    "pca = PCA(variance)\n",
    "pca.fit(X_mnist)\n",
    "PCA_X_mnist = pca.transform(X_mnist)\n",
    "\n",
    "print(\"New number of features = \" + str(pca.n_components_)) "
   ]
  },
  {
   "cell_type": "code",
   "execution_count": 163,
   "id": "5f24c601",
   "metadata": {
    "ExecuteTime": {
     "end_time": "2021-09-23T05:34:38.372733Z",
     "start_time": "2021-09-23T05:34:29.554731Z"
    }
   },
   "outputs": [
    {
     "data": {
      "text/plain": [
       "KMeans(n_clusters=10)"
      ]
     },
     "execution_count": 163,
     "metadata": {},
     "output_type": "execute_result"
    }
   ],
   "source": [
    "k_means_pca = KMeans(n_clusters = 10)\n",
    "k_means_pca.fit(PCA_X_mnist)"
   ]
  },
  {
   "cell_type": "code",
   "execution_count": 164,
   "id": "9fb29c55",
   "metadata": {
    "ExecuteTime": {
     "end_time": "2021-09-23T05:34:41.819732Z",
     "start_time": "2021-09-23T05:34:39.740729Z"
    }
   },
   "outputs": [
    {
     "data": {
      "image/png": "[encoded data removed]",
      "text/plain": [
       "<Figure size 1080x504 with 10 Axes>"
      ]
     },
     "metadata": {
      "needs_background": "light"
     },
     "output_type": "display_data"
    }
   ],
   "source": [
    "general_accuracy = plot_hist(k_means_pca.labels_,Y_mnist,2,5)"
   ]
  },
  {
   "cell_type": "code",
   "execution_count": 165,
   "id": "64e7d5f7",
   "metadata": {
    "ExecuteTime": {
     "end_time": "2021-09-23T05:34:43.380729Z",
     "start_time": "2021-09-23T05:34:43.369736Z"
    }
   },
   "outputs": [
    {
     "name": "stdout",
     "output_type": "stream",
     "text": [
      "accuracy =  0.5538142857142857\n"
     ]
    }
   ],
   "source": [
    "print('accuracy = ',general_accuracy.sum()/n)"
   ]
  },
  {
   "cell_type": "markdown",
   "id": "5a4ee1e9",
   "metadata": {},
   "source": [
    "As we can see, there isn't much difference between results with PCA or without. The learning speed with PCA is much faster."
   ]
  },
  {
   "cell_type": "markdown",
   "id": "a8f44984",
   "metadata": {},
   "source": [
    "# Caltech 256"
   ]
  },
  {
   "cell_type": "markdown",
   "id": "ed916dfe",
   "metadata": {},
   "source": [
    "I implemented \"Caltech 256\" just for first 20 classes due to computational constraints"
   ]
  },
  {
   "cell_type": "code",
   "execution_count": 166,
   "id": "605ce4d2",
   "metadata": {
    "ExecuteTime": {
     "end_time": "2021-09-23T05:34:44.933738Z",
     "start_time": "2021-09-23T05:34:44.926729Z"
    }
   },
   "outputs": [],
   "source": [
    "first_20_classes = os.listdir(r'archive\\256_ObjectCategories')[:20]\n",
    "path = r'archive\\256_ObjectCategories\\\\'"
   ]
  },
  {
   "cell_type": "code",
   "execution_count": 168,
   "id": "a95907b8",
   "metadata": {
    "ExecuteTime": {
     "end_time": "2021-09-23T05:42:41.237704Z",
     "start_time": "2021-09-23T05:41:05.867174Z"
    }
   },
   "outputs": [],
   "source": [
    "max_img = 80\n",
    "labels = np.repeat(range(20), max_img)\n",
    "i=0\n",
    "\n",
    "for category_name in first_20_classes:\n",
    "    image_paths = glob.glob(f'{path}{category_name}/*')\n",
    "    \n",
    "    for image_path in image_paths[:max_img]:\n",
    "        next_image = np.expand_dims(np.asarray(PIL.Image.open(image_path).resize((50,50)))/255, axis=0)\n",
    "        if i > 0:\n",
    "            \n",
    "            if next_image.shape[-1]!=3:#is the photo black and white\n",
    "                labels = np.delete(labels,i)\n",
    "                continue\n",
    "            prev_image = np.concatenate((prev_image,next_image))\n",
    "            \n",
    "        else:\n",
    "            prev_image = np.copy(next_image)\n",
    "        \n",
    "        i+=1\n",
    "       "
   ]
  },
  {
   "cell_type": "code",
   "execution_count": 169,
   "id": "47889285",
   "metadata": {
    "ExecuteTime": {
     "end_time": "2021-09-23T05:42:42.815710Z",
     "start_time": "2021-09-23T05:42:42.809711Z"
    }
   },
   "outputs": [],
   "source": [
    "n=prev_image.shape[0]"
   ]
  },
  {
   "cell_type": "code",
   "execution_count": 170,
   "id": "6311442c",
   "metadata": {
    "ExecuteTime": {
     "end_time": "2021-09-23T05:42:44.290715Z",
     "start_time": "2021-09-23T05:42:44.279708Z"
    },
    "run_control": {
     "marked": false
    }
   },
   "outputs": [],
   "source": [
    "caltech = prev_image.reshape(-1,prev_image.shape[1]*prev_image.shape[2]*prev_image.shape[3])"
   ]
  },
  {
   "cell_type": "code",
   "execution_count": 171,
   "id": "0bd0758c",
   "metadata": {
    "ExecuteTime": {
     "end_time": "2021-09-23T05:43:08.272170Z",
     "start_time": "2021-09-23T05:42:46.767709Z"
    }
   },
   "outputs": [
    {
     "data": {
      "text/plain": [
       "KMeans(n_clusters=20)"
      ]
     },
     "execution_count": 171,
     "metadata": {},
     "output_type": "execute_result"
    }
   ],
   "source": [
    "k_means_caltech = KMeans(n_clusters = 20)\n",
    "k_means_caltech.fit(caltech)"
   ]
  },
  {
   "cell_type": "code",
   "execution_count": 172,
   "id": "55c332b0",
   "metadata": {
    "ExecuteTime": {
     "end_time": "2021-09-23T05:43:14.562172Z",
     "start_time": "2021-09-23T05:43:09.851177Z"
    }
   },
   "outputs": [
    {
     "data": {
      "image/png": "[encoded data removed]",
      "text/plain": [
       "<Figure size 1080x504 with 20 Axes>"
      ]
     },
     "metadata": {
      "needs_background": "light"
     },
     "output_type": "display_data"
    }
   ],
   "source": [
    "general_accuracy = plot_hist(k_means_caltech.labels_,labels,4,5)"
   ]
  },
  {
   "cell_type": "code",
   "execution_count": 173,
   "id": "d6bee503",
   "metadata": {
    "ExecuteTime": {
     "end_time": "2021-09-23T05:43:16.242175Z",
     "start_time": "2021-09-23T05:43:16.220175Z"
    }
   },
   "outputs": [
    {
     "name": "stdout",
     "output_type": "stream",
     "text": [
      "accuracy =  0.20075997466751108\n"
     ]
    }
   ],
   "source": [
    "print('accuracy = ',general_accuracy.sum()/n)"
   ]
  },
  {
   "cell_type": "markdown",
   "id": "384950c3",
   "metadata": {},
   "source": [
    "Accuracy is much lower than at Fashion-MNIST, because data is much less and images are more compound than black-white images. And pure K-Means isn't an appropriate method to do it. Better apply autoencoder and only the some clusterization method."
   ]
  },
  {
   "cell_type": "markdown",
   "id": "1b9bbeaa",
   "metadata": {},
   "source": [
    "# 20 newsgroup"
   ]
  },
  {
   "cell_type": "code",
   "execution_count": 174,
   "id": "048563a7",
   "metadata": {
    "ExecuteTime": {
     "end_time": "2021-09-23T05:43:18.336172Z",
     "start_time": "2021-09-23T05:43:18.331173Z"
    }
   },
   "outputs": [],
   "source": [
    "path = r'news20\\\\20_newsgroup'"
   ]
  },
  {
   "cell_type": "markdown",
   "id": "ecc3ecdf",
   "metadata": {},
   "source": [
    "Let's see at some text"
   ]
  },
  {
   "cell_type": "code",
   "execution_count": 176,
   "id": "896054ad",
   "metadata": {
    "ExecuteTime": {
     "end_time": "2021-09-23T05:43:42.794934Z",
     "start_time": "2021-09-23T05:43:42.783933Z"
    }
   },
   "outputs": [
    {
     "name": "stdout",
     "output_type": "stream",
     "text": [
      "Xref: cantaloupe.srv.cs.cmu.edu alt.atheism:49960 alt.atheism.moderated:713 news.answers:7054 alt.answers:126\n",
      "Path: cantaloupe.srv.cs.cmu.edu!crabapple.srv.cs.cmu.edu!bb3.andrew.cmu.edu!news.sei.cmu.edu!cis.ohio-state.edu!magnus.acs.ohio-state.edu!usenet.ins.cwru.edu!agate!spool.mu.edu!uunet!pipex!ibmpcug!mantis!mathew\n",
      "From: mathew <mathew@mantis.co.uk>\n",
      "Newsgroups: alt.atheism,alt.atheism.moderated,news.answers,alt.answers\n",
      "Subject: Alt.Atheism FAQ: Atheist Resources\n",
      "Summary: Books, addresses, music -- anything related to atheism\n",
      "Keywords: FAQ, atheism, books, music, fiction, addresses, contacts\n",
      "Message-ID: <19930329115719@mantis.co.uk>\n",
      "Date: Mon, 29 Mar 1993 11:57:19 GMT\n",
      "Expires: Thu, 29 Apr 1993 11:57:19 GMT\n",
      "Followup-To: alt.atheism\n",
      "Distribution: world\n",
      "Organization: Mantis Consultants, Cambridge. UK.\n",
      "Approved: news-answers-request@mit.edu\n",
      "Supersedes: <19930301143317@mantis.co.uk>\n",
      "Lines: 290\n",
      "\n",
      "Archive-name: atheism/resources\n",
      "Alt-atheism-archive-name: resources\n",
      "Last-modified: 11 December 1992\n",
      "Version: 1.0\n",
      "\n",
      "                              Atheist Resources\n",
      "\n",
      "                      Addresses of Atheist Organizations\n",
      "\n",
      "                                     USA\n",
      "\n",
      "FREEDOM FROM RELIGION FOUNDATION\n",
      "\n",
      "Darwin fish bumper stickers and assorted other atheist paraphernalia are\n",
      "available from the Freedom From Religion Foundation in the US.\n",
      "\n",
      "Write to:  FFRF, P.O. Box 750, Madison, WI 53701.\n",
      "Telephone: (608) 256-8900\n",
      "\n",
      "EVOLUTION DESIGNS\n",
      "\n",
      "Evolution Designs sell the \"Darwin fish\".  It's a fish symbol, like the ones\n",
      "Christians stick on their cars, but with feet and the word \"Darwin\" written\n",
      "inside.  The deluxe moulded 3D plastic fish is $4.95 postpaid in the US.\n",
      "\n",
      "Write to:  Evolution Designs, 7119 Laurel Canyon #4, North Hollywood,\n",
      "           CA 91605.\n",
      "\n",
      "People in the San Francisco Bay area can get Darwin Fish from Lynn Gold --\n",
      "try mailing <figmo@netcom.com>.  For net people who go to Lynn directly, the\n",
      "price is $4.95 per fish.\n",
      "\n",
      "AMERICAN ATHEIST PRESS\n",
      "\n",
      "AAP publish various atheist books -- critiques of the Bible, lists of\n",
      "Biblical contradictions, and so on.  One such book is:\n",
      "\n",
      "\"The Bible Handbook\" by W.P. Ball and G.W. Foote.  American Atheist Press.\n",
      "372 pp.  ISBN 0-910309-26-4, 2nd edition, 1986.  Bible contradictions,\n",
      "absurdities, atrocities, immoralities... contains Ball, Foote: \"The Bible\n",
      "Contradicts Itself\", AAP.  Based on the King James version of the Bible.\n",
      "\n",
      "Write to:  American Atheist Press, P.O. Box 140195, Austin, TX 78714-0195.\n",
      "      or:  7215 Cameron Road, Austin, TX 78752-2973.\n",
      "Telephone: (512) 458-1244\n",
      "Fax:       (512) 467-9525\n",
      "\n",
      "PROMETHEUS BOOKS\n",
      "\n",
      "Sell books including Haught's \"Holy Horrors\" (see below).\n",
      "\n",
      "Write to:  700 East Amherst Street, Buffalo, New York 14215.\n",
      "Telephone: (716) 837-2475.\n",
      "\n",
      "An alternate address (which may be newer or older) is:\n",
      "Prometheus Books, 59 Glenn Drive, Buffalo, NY 14228-2197.\n",
      "\n",
      "AFRICAN-AMERICANS FOR HUMANISM\n",
      "\n",
      "An organization promoting black secular humanism and uncovering the history of\n",
      "black freethought.  They publish a quarterly newsletter, AAH EXAMINER.\n",
      "\n",
      "Write to:  Norm R. Allen, Jr., African Americans for Humanism, P.O. Box 664,\n",
      "           Buffalo, NY 14226.\n",
      "\n",
      "                                United Kingdom\n",
      "\n",
      "Rationalist Press Association          National Secular Society\n",
      "88 Islington High Street               702 Holloway Road\n",
      "London N1 8EW                          London N19 3NL\n",
      "071 226 7251                           071 272 1266\n",
      "\n",
      "British Humanist Association           South Place Ethical Society\n",
      "14 Lamb's Conduit Passage              Conway Hall\n",
      "London WC1R 4RH                        Red Lion Square\n",
      "071 430 0908                           London WC1R 4RL\n",
      "fax 071 430 1271                       071 831 7723\n",
      "\n",
      "The National Secular Society publish \"The Freethinker\", a monthly magazine\n",
      "founded in 1881.\n",
      "\n",
      "                                   Germany\n",
      "\n",
      "IBKA e.V.\n",
      "Internationaler Bund der Konfessionslosen und Atheisten\n",
      "Postfach 880, D-1000 Berlin 41. Germany.\n",
      "\n",
      "IBKA publish a journal:\n",
      "MIZ. (Materialien und Informationen zur Zeit. Politisches\n",
      "Journal der Konfessionslosesn und Atheisten. Hrsg. IBKA e.V.)\n",
      "MIZ-Vertrieb, Postfach 880, D-1000 Berlin 41. Germany.\n",
      "\n",
      "For atheist books, write to:\n",
      "\n",
      "IBDK, Internationaler B\"ucherdienst der Konfessionslosen\n",
      "Postfach 3005, D-3000 Hannover 1. Germany.\n",
      "Telephone: 0511/211216\n",
      "\n",
      "\n",
      "                               Books -- Fiction\n",
      "\n",
      "THOMAS M. DISCH\n",
      "\n",
      "\"The Santa Claus Compromise\"\n",
      "Short story.  The ultimate proof that Santa exists.  All characters and \n",
      "events are fictitious.  Any similarity to living or dead gods -- uh, well...\n",
      "\n",
      "WALTER M. MILLER, JR\n",
      "\n",
      "\"A Canticle for Leibowitz\"\n",
      "One gem in this post atomic doomsday novel is the monks who spent their lives\n",
      "copying blueprints from \"Saint Leibowitz\", filling the sheets of paper with\n",
      "ink and leaving white lines and letters.\n",
      "\n",
      "EDGAR PANGBORN\n",
      "\n",
      "\"Davy\"\n",
      "Post atomic doomsday novel set in clerical states.  The church, for example,\n",
      "forbids that anyone \"produce, describe or use any substance containing...\n",
      "atoms\". \n",
      "\n",
      "PHILIP K. DICK\n",
      "\n",
      "Philip K. Dick Dick wrote many philosophical and thought-provoking short \n",
      "stories and novels.  His stories are bizarre at times, but very approachable.\n",
      "He wrote mainly SF, but he wrote about people, truth and religion rather than\n",
      "technology.  Although he often believed that he had met some sort of God, he\n",
      "remained sceptical.  Amongst his novels, the following are of some relevance:\n",
      "\n",
      "\"Galactic Pot-Healer\"\n",
      "A fallible alien deity summons a group of Earth craftsmen and women to a\n",
      "remote planet to raise a giant cathedral from beneath the oceans.  When the\n",
      "deity begins to demand faith from the earthers, pot-healer Joe Fernwright is\n",
      "unable to comply.  A polished, ironic and amusing novel.\n",
      "\n",
      "\"A Maze of Death\"\n",
      "Noteworthy for its description of a technology-based religion.\n",
      "\n",
      "\"VALIS\"\n",
      "The schizophrenic hero searches for the hidden mysteries of Gnostic\n",
      "Christianity after reality is fired into his brain by a pink laser beam of\n",
      "unknown but possibly divine origin.  He is accompanied by his dogmatic and\n",
      "dismissively atheist friend and assorted other odd characters.\n",
      "\n",
      "\"The Divine Invasion\"\n",
      "God invades Earth by making a young woman pregnant as she returns from\n",
      "another star system.  Unfortunately she is terminally ill, and must be\n",
      "assisted by a dead man whose brain is wired to 24-hour easy listening music.\n",
      "\n",
      "MARGARET ATWOOD\n",
      "\n",
      "\"The Handmaid's Tale\"\n",
      "A story based on the premise that the US Congress is mysteriously\n",
      "assassinated, and fundamentalists quickly take charge of the nation to set it\n",
      "\"right\" again.  The book is the diary of a woman's life as she tries to live\n",
      "under the new Christian theocracy.  Women's right to own property is revoked,\n",
      "and their bank accounts are closed; sinful luxuries are outlawed, and the\n",
      "radio is only used for readings from the Bible.  Crimes are punished\n",
      "retroactively: doctors who performed legal abortions in the \"old world\" are\n",
      "hunted down and hanged.  Atwood's writing style is difficult to get used to\n",
      "at first, but the tale grows more and more chilling as it goes on.\n",
      "\n",
      "VARIOUS AUTHORS\n",
      "\n",
      "\"The Bible\"\n",
      "This somewhat dull and rambling work has often been criticized.  However, it\n",
      "is probably worth reading, if only so that you'll know what all the fuss is\n",
      "about.  It exists in many different versions, so make sure you get the one\n",
      "true version.\n",
      "\n",
      "                             Books -- Non-fiction\n",
      "\n",
      "PETER DE ROSA\n",
      "\n",
      "\"Vicars of Christ\", Bantam Press, 1988\n",
      "Although de Rosa seems to be Christian or even Catholic this is a very\n",
      "enlighting history of papal immoralities, adulteries, fallacies etc.\n",
      "(German translation: \"Gottes erste Diener. Die dunkle Seite des Papsttums\",\n",
      "Droemer-Knaur, 1989)\n",
      "\n",
      "MICHAEL MARTIN\n",
      "\n",
      "\"Atheism: A Philosophical Justification\", Temple University Press,\n",
      " Philadelphia, USA.\n",
      "A detailed and scholarly justification of atheism.  Contains an outstanding\n",
      "appendix defining terminology and usage in this (necessarily) tendentious\n",
      "area.  Argues both for \"negative atheism\" (i.e. the \"non-belief in the\n",
      "existence of god(s)\") and also for \"positive atheism\" (\"the belief in the\n",
      "non-existence of god(s)\").  Includes great refutations of the most\n",
      "challenging arguments for god; particular attention is paid to refuting\n",
      "contempory theists such as Platinga and Swinburne.\n",
      "541 pages. ISBN 0-87722-642-3 (hardcover; paperback also available)\n",
      "\n",
      "\"The Case Against Christianity\", Temple University Press\n",
      "A comprehensive critique of Christianity, in which he considers\n",
      "the best contemporary defences of Christianity and (ultimately)\n",
      "demonstrates that they are unsupportable and/or incoherent.\n",
      "273 pages. ISBN 0-87722-767-5\n",
      "\n",
      "JAMES TURNER\n",
      "\n",
      "\"Without God, Without Creed\", The Johns Hopkins University Press, Baltimore,\n",
      " MD, USA\n",
      "Subtitled \"The Origins of Unbelief in America\".  Examines the way in which\n",
      "unbelief (whether agnostic or atheistic)  became a mainstream alternative\n",
      "world-view.  Focusses on the period 1770-1900, and while considering France\n",
      "and Britain the emphasis is on American, and particularly New England\n",
      "developments.  \"Neither a religious history of secularization or atheism,\n",
      "Without God, Without Creed is, rather, the intellectual history of the fate\n",
      "of a single idea, the belief that God exists.\" \n",
      "316 pages. ISBN (hardcover) 0-8018-2494-X (paper) 0-8018-3407-4\n",
      "\n",
      "GEORGE SELDES (Editor)\n",
      "\n",
      "\"The great thoughts\", Ballantine Books, New York, USA\n",
      "A \"dictionary of quotations\" of a different kind, concentrating on statements\n",
      "and writings which, explicitly or implicitly, present the person's philosophy\n",
      "and world-view.  Includes obscure (and often suppressed) opinions from many\n",
      "people.  For some popular observations, traces the way in which various\n",
      "people expressed and twisted the idea over the centuries.  Quite a number of\n",
      "the quotations are derived from Cardiff's \"What Great Men Think of Religion\"\n",
      "and Noyes' \"Views of Religion\".\n",
      "490 pages. ISBN (paper) 0-345-29887-X.\n",
      "\n",
      "RICHARD SWINBURNE\n",
      "\n",
      "\"The Existence of God (Revised Edition)\", Clarendon Paperbacks, Oxford\n",
      "This book is the second volume in a trilogy that began with \"The Coherence of\n",
      "Theism\" (1977) and was concluded with \"Faith and Reason\" (1981).  In this\n",
      "work, Swinburne attempts to construct a series of inductive arguments for the\n",
      "existence of God.  His arguments, which are somewhat tendentious and rely\n",
      "upon the imputation of late 20th century western Christian values and\n",
      "aesthetics to a God which is supposedly as simple as can be conceived, were\n",
      "decisively rejected in Mackie's \"The Miracle of Theism\".  In the revised\n",
      "edition of \"The Existence of God\", Swinburne includes an Appendix in which he\n",
      "makes a somewhat incoherent attempt to rebut Mackie.\n",
      "\n",
      "J. L. MACKIE\n",
      "\n",
      "\"The Miracle of Theism\", Oxford\n",
      "This (posthumous) volume contains a comprehensive review of the principal\n",
      "arguments for and against the existence of God.  It ranges from the classical\n",
      "philosophical positions of Descartes, Anselm, Berkeley, Hume et al, through\n",
      "the moral arguments of Newman, Kant and Sidgwick, to the recent restatements\n",
      "of the classical theses by Plantinga and Swinburne.  It also addresses those\n",
      "positions which push the concept of God beyond the realm of the rational,\n",
      "such as those of Kierkegaard, Kung and Philips, as well as \"replacements for\n",
      "God\" such as Lelie's axiarchism.  The book is a delight to read - less\n",
      "formalistic and better written than Martin's works, and refreshingly direct\n",
      "when compared with the hand-waving of Swinburne.\n",
      "\n",
      "JAMES A. HAUGHT\n",
      "\n",
      "\"Holy Horrors: An Illustrated History of Religious Murder and Madness\",\n",
      " Prometheus Books\n",
      "Looks at religious persecution from ancient times to the present day -- and\n",
      "not only by Christians.\n",
      "Library of Congress Catalog Card Number 89-64079. 1990.\n",
      "\n",
      "NORM R. ALLEN, JR.\n",
      "\n",
      "\"African American Humanism: an Anthology\"\n",
      "See the listing for African Americans for Humanism above.\n",
      "\n",
      "GORDON STEIN\n",
      "\n",
      "\"An Anthology of Atheism and Rationalism\", Prometheus Books\n",
      "An anthology covering a wide range of subjects, including 'The Devil, Evil\n",
      "and Morality' and 'The History of Freethought'.  Comprehensive bibliography.\n",
      "\n",
      "EDMUND D. COHEN\n",
      "\n",
      "\"The Mind of The Bible-Believer\", Prometheus Books\n",
      "A study of why people become Christian fundamentalists, and what effect it\n",
      "has on them.\n",
      "\n",
      "                                Net Resources\n",
      "\n",
      "There's a small mail-based archive server at mantis.co.uk which carries\n",
      "archives of old alt.atheism.moderated articles and assorted other files.  For\n",
      "more information, send mail to archive-server@mantis.co.uk saying\n",
      "\n",
      "   help\n",
      "   send atheism/index\n",
      "\n",
      "and it will mail back a reply.\n",
      "\n",
      "\n",
      "mathew\n",
      "я\n"
     ]
    },
    {
     "name": "stdout",
     "output_type": "stream",
     "text": [
      "\n"
     ]
    }
   ],
   "source": [
    "file = open(r'news20\\\\20_newsgroup\\\\alt.atheism\\\\49960')\n",
    "print(file.read())"
   ]
  },
  {
   "cell_type": "code",
   "execution_count": 177,
   "id": "eb72892c",
   "metadata": {
    "ExecuteTime": {
     "end_time": "2021-09-23T05:44:04.979471Z",
     "start_time": "2021-09-23T05:43:44.287474Z"
    }
   },
   "outputs": [
    {
     "name": "stderr",
     "output_type": "stream",
     "text": [
      "100%|██████████████████████████████████████████████████████████████████████████████████| 20/20 [00:20<00:00,  1.03s/it]\n"
     ]
    }
   ],
   "source": [
    "all_texts = np.array([])\n",
    "max_files = 20\n",
    "\n",
    "for category_name in tqdm(os.listdir(path)):\n",
    "    file_paths = glob.glob(f'{path}\\\\{category_name}\\\\*')\n",
    "    \n",
    "    for file_path in file_paths[:max_files]:\n",
    "        with open(file_path) as file:\n",
    "            all_texts = np.append(all_texts,file.read())"
   ]
  },
  {
   "cell_type": "code",
   "execution_count": 178,
   "id": "ccf296dd",
   "metadata": {
    "ExecuteTime": {
     "end_time": "2021-09-23T05:44:06.344469Z",
     "start_time": "2021-09-23T05:44:06.335469Z"
    }
   },
   "outputs": [
    {
     "data": {
      "text/plain": [
       "400"
      ]
     },
     "execution_count": 178,
     "metadata": {},
     "output_type": "execute_result"
    }
   ],
   "source": [
    "n = all_texts.shape[0]\n",
    "n"
   ]
  },
  {
   "cell_type": "code",
   "execution_count": 179,
   "id": "1facf04f",
   "metadata": {
    "ExecuteTime": {
     "end_time": "2021-09-23T05:44:08.063472Z",
     "start_time": "2021-09-23T05:44:07.641468Z"
    }
   },
   "outputs": [],
   "source": [
    "vectorizer = TfidfVectorizer(max_df=0.5, min_df=2,stop_words='english')\n",
    "X_newsgroup = vectorizer.fit_transform(all_texts)\n",
    "labels = np.repeat(range(20), max_files)"
   ]
  },
  {
   "cell_type": "code",
   "execution_count": 180,
   "id": "17467998",
   "metadata": {
    "ExecuteTime": {
     "end_time": "2021-09-23T05:44:11.026470Z",
     "start_time": "2021-09-23T05:44:09.344472Z"
    },
    "scrolled": true
   },
   "outputs": [
    {
     "data": {
      "text/plain": [
       "KMeans(n_clusters=20)"
      ]
     },
     "execution_count": 180,
     "metadata": {},
     "output_type": "execute_result"
    }
   ],
   "source": [
    "k_means_newsgr = KMeans(n_clusters=20)\n",
    "k_means_newsgr.fit(X_newsgroup)"
   ]
  },
  {
   "cell_type": "code",
   "execution_count": 181,
   "id": "af3f33d1",
   "metadata": {
    "ExecuteTime": {
     "end_time": "2021-09-23T05:44:16.662996Z",
     "start_time": "2021-09-23T05:44:12.356476Z"
    }
   },
   "outputs": [
    {
     "data": {
      "image/png": "[encoded data removed]",
      "text/plain": [
       "<Figure size 1080x504 with 20 Axes>"
      ]
     },
     "metadata": {
      "needs_background": "light"
     },
     "output_type": "display_data"
    }
   ],
   "source": [
    "general_accuracy = plot_hist(k_means_newsgr.labels_,labels,4,5)"
   ]
  },
  {
   "cell_type": "code",
   "execution_count": 182,
   "id": "7c10d8a4",
   "metadata": {
    "ExecuteTime": {
     "end_time": "2021-09-23T05:44:18.097999Z",
     "start_time": "2021-09-23T05:44:18.082998Z"
    },
    "scrolled": true
   },
   "outputs": [
    {
     "name": "stdout",
     "output_type": "stream",
     "text": [
      "accuracy =  0.515\n"
     ]
    }
   ],
   "source": [
    "print('accuracy = ',general_accuracy.sum()/n)"
   ]
  },
  {
   "cell_type": "markdown",
   "id": "e60d1964",
   "metadata": {},
   "source": [
    "Accuracy is so low because of low amount of files in each class, only 20 files per class."
   ]
  }
 ],
 "metadata": {
  "kernelspec": {
   "display_name": "Python 3",
   "language": "python",
   "name": "python3"
  },
  "language_info": {
   "codemirror_mode": {
    "name": "ipython",
    "version": 3
   },
   "file_extension": ".py",
   "mimetype": "text/x-python",
   "name": "python",
   "nbconvert_exporter": "python",
   "pygments_lexer": "ipython3",
   "version": "3.8.8"
  },
  "toc": {
   "base_numbering": "",
   "nav_menu": {},
   "number_sections": false,
   "sideBar": false,
   "skip_h1_title": false,
   "title_cell": "Table of Contents",
   "title_sidebar": "Contents",
   "toc_cell": true,
   "toc_position": {
    "height": "100px",
    "left": "22px",
    "top": "240.778px",
    "width": "165px"
   },
   "toc_section_display": true,
   "toc_window_display": false
  },
  "varInspector": {
   "cols": {
    "lenName": 16,
    "lenType": 16,
    "lenVar": 40
   },
   "kernels_config": {
    "python": {
     "delete_cmd_postfix": "",
     "delete_cmd_prefix": "del ",
     "library": "var_list.py",
     "varRefreshCmd": "print(var_dic_list())"
    },
    "r": {
     "delete_cmd_postfix": ") ",
     "delete_cmd_prefix": "rm(",
     "library": "var_list.r",
     "varRefreshCmd": "cat(var_dic_list()) "
    }
   },
   "types_to_exclude": [
    "module",
    "function",
    "builtin_function_or_method",
    "instance",
    "_Feature"
   ],
   "window_display": false
  }
 },
 "nbformat": 4,
 "nbformat_minor": 5
}
